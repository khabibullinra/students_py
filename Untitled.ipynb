{
 "cells": [
  {
   "cell_type": "code",
   "execution_count": 49,
   "metadata": {},
   "outputs": [
    {
     "name": "stdout",
     "output_type": "stream",
     "text": [
      "ρ_грi = [ 1.  5.  3.]\n",
      "[ 1.  5.]\n",
      "[ 1.  5.  4.]\n"
     ]
    }
   ],
   "source": [
    "import math\n",
    "import numpy as np\n",
    "Г_i_m3tonna=np.array([1,5,3])\n",
    "def ρ_gri_otn(Г_i_m3tonna):\n",
    "    return np.trunc(Г_i_m3tonna*1)\n",
    "print ('ρ_грi =',ρ_gri_otn(Г_i_m3tonna) )   \n",
    "#np.concatenate((ρ_gri_otn(Г_i_m3tonna),4))\n",
    "#s=np.append(ρ_gri_otn(Г_i_m3tonna),4)\n",
    "#print(s)\n",
    "#print('ρ_грi =',ρ_gri_otn(Г_i_m3tonna) ) \n",
    "#np.put(ρ_gri_otn(Г_i_m3tonna), [ 1 ], [ 9])\n",
    "#ρ_gri_otn(Г_i_m3tonna)\n",
    "#del(ρ_gri_otn(Г_i_m3tonna))[1]\n",
    "a = ρ_gri_otn(Г_i_m3tonna)[:2]\n",
    "print(a)\n",
    "s=np.append(a,4)\n",
    "print(s)"
   ]
  },
  {
   "cell_type": "code",
   "execution_count": 40,
   "metadata": {},
   "outputs": [
    {
     "data": {
      "text/plain": [
       "array([-44,   5,   4])"
      ]
     },
     "execution_count": 40,
     "metadata": {},
     "output_type": "execute_result"
    }
   ],
   "source": [
    "a = np .  array( [1,5,4] )\n",
    "np.put ( a , [ 0 ], [ - 44  ])\n",
    "a"
   ]
  },
  {
   "cell_type": "code",
   "execution_count": null,
   "metadata": {
    "collapsed": true
   },
   "outputs": [],
   "source": []
  }
 ],
 "metadata": {
  "kernelspec": {
   "display_name": "Python 3",
   "language": "python",
   "name": "python3"
  },
  "language_info": {
   "codemirror_mode": {
    "name": "ipython",
    "version": 3
   },
   "file_extension": ".py",
   "mimetype": "text/x-python",
   "name": "python",
   "nbconvert_exporter": "python",
   "pygments_lexer": "ipython3",
   "version": "3.6.1"
  }
 },
 "nbformat": 4,
 "nbformat_minor": 2
}
