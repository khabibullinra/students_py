{
 "cells": [
  {
   "cell_type": "markdown",
   "metadata": {},
   "source": [
    "\n",
    "# 1.Расчет газонасыщенности пластовой нефти $G_0$\n",
    "## Газонасыщенность пластовой нефти  $G_0$, $\\frac{м^3}{м^3} = \\frac{1}{0.00036 ρ_{нд}– 0.2896}$\n"
   ]
  },
  {
   "cell_type": "code",
   "execution_count": 34,
   "metadata": {},
   "outputs": [
    {
     "name": "stdout",
     "output_type": "stream",
     "text": [
      "Populating the interactive namespace from numpy and matplotlib\n",
      "G0= 60.0 м^3/м^3\n"
     ]
    }
   ],
   "source": [
    "import math\n",
    "import numpy as np\n",
    "%pylab inline\n",
    "\n",
    "def g0_m3m3(rho_kgm3):\n",
    "    \"\"\"\n",
    "    Расчет газонасыщенности от плотности для нефти\n",
    "    \"\"\"\n",
    "    return np.trunc(1 / (0.00036*rho_kgm3 - 0.2896))\n",
    "\n",
    "x = 850        \n",
    "print ('G0=', g0_m3m3(x), 'м^3/м^3') "
   ]
  },
  {
   "cell_type": "code",
   "execution_count": 43,
   "metadata": {},
   "outputs": [
    {
     "data": {
      "text/plain": [
       "[<matplotlib.lines.Line2D at 0x1e5014e5ba8>]"
      ]
     },
     "execution_count": 43,
     "metadata": {},
     "output_type": "execute_result"
    },
    {
     "data": {
      "image/png": "[encoded data removed]",
      "text/plain": [
       "<matplotlib.figure.Figure at 0x1e500e7e940>"
      ]
     },
     "metadata": {},
     "output_type": "display_data"
    }
   ],
   "source": [
    "x=np.arange(806,980,1)\n",
    "y=g0_m3m3(x)\n",
    "plot(x,y)"
   ]
  },
  {
   "cell_type": "code",
   "execution_count": null,
   "metadata": {},
   "outputs": [],
   "source": [
    "\n",
    "\n"
   ]
  },
  {
   "cell_type": "markdown",
   "metadata": {},
   "source": [
    "# 2.Расчет давления насыщения ${Р_{нас}}$\n",
    " для интервала газонасыщенности $25 ≤ Gо ≤ 100$  $\\frac{м^3}{м^3}$\n",
    " \n",
    "$ Р_{нас} = 5,5 + 0,093·(Gо – 25) $ МПа\n",
    "\n",
    "$ Р_{нас} = 6 + 0,22·(Gо – 40) $,справедливое в интервале $ 40 ≤ Gо ≤ 80$  $\\frac{м^3}{м^3}$, полученное используя свойства нефтей месторождения Узень"
   ]
  },
  {
   "cell_type": "code",
   "execution_count": 46,
   "metadata": {},
   "outputs": [
    {
     "name": "stdout",
     "output_type": "stream",
     "text": [
      "Рнас= 12.475 Мпа\n"
     ]
    }
   ],
   "source": [
    "def p_nas_MPa(g0_m3m3):\n",
    "    if (g0_m3m3 >= 25 and g0_m3m3 < 40) or (g0_m3m3 > 80 and g0_m3m3 <= 100): \n",
    "        p=5.5 + 0.093*(g0_m3m3 - 25)\n",
    "    elif g0_m3m3>=40 and g0_m3m3 <= 80: \n",
    "        p= 6 + 0.22*(g0_m3m3 - 40)\n",
    "    else: \n",
    "        print (\"Газонасыщенность не подходит\")\n",
    "    return p\n",
    "\n",
    "print('Рнас=',p_nas_MPa(100),\"Мпа\")"
   ]
  },
  {
   "cell_type": "code",
   "execution_count": 67,
   "metadata": {},
   "outputs": [],
   "source": [
    "garr=np.arange(30,100,1)\n",
    "p=[]\n",
    "for g in garr:\n",
    "    p.append(p_nas_MPa(g))\n",
    "    #print(g,p_nas_MPa(g))"
   ]
  },
  {
   "cell_type": "code",
   "execution_count": 68,
   "metadata": {},
   "outputs": [
    {
     "data": {
      "text/plain": [
       "[<matplotlib.lines.Line2D at 0x1e5026a4ef0>]"
      ]
     },
     "execution_count": 68,
     "metadata": {},
     "output_type": "execute_result"
    },
    {
     "data": {
      "image/png": "[encoded data removed]",
      "text/plain": [
       "<matplotlib.figure.Figure at 0x1e5025c9780>"
      ]
     },
     "metadata": {},
     "output_type": "display_data"
    }
   ],
   "source": [
    "plot(garr,p)\n"
   ]
  },
  {
   "cell_type": "markdown",
   "metadata": {},
   "source": [
    "# 3.Расчет объемного коэффициента нефти $b$\n",
    "## Используется следующая корреляционная зависимость $b = 1 + 0,003·Gо$"
   ]
  },
  {
   "cell_type": "code",
   "execution_count": 62,
   "metadata": {},
   "outputs": [
    {
     "ename": "NameError",
     "evalue": "name 'n' is not defined",
     "output_type": "error",
     "traceback": [
      "\u001b[1;31m---------------------------------------------------------------------------\u001b[0m",
      "\u001b[1;31mNameError\u001b[0m                                 Traceback (most recent call last)",
      "\u001b[1;32m<ipython-input-62-b16e268ba252>\u001b[0m in \u001b[0;36m<module>\u001b[1;34m()\u001b[0m\n\u001b[1;32m----> 1\u001b[1;33m \u001b[0mb\u001b[0m\u001b[1;33m=\u001b[0m\u001b[1;36m1\u001b[0m\u001b[1;33m+\u001b[0m\u001b[1;36m0.003\u001b[0m\u001b[1;33m*\u001b[0m\u001b[0mn\u001b[0m\u001b[1;33m\u001b[0m\u001b[0m\n\u001b[0m\u001b[0;32m      2\u001b[0m \u001b[0mprint\u001b[0m\u001b[1;33m(\u001b[0m\u001b[1;34m'b='\u001b[0m\u001b[1;33m,\u001b[0m\u001b[0mb\u001b[0m\u001b[1;33m)\u001b[0m\u001b[1;33m\u001b[0m\u001b[0m\n",
      "\u001b[1;31mNameError\u001b[0m: name 'n' is not defined"
     ]
    }
   ],
   "source": [
    "b=1+0.003*n\n",
    "print('b=',b)"
   ]
  },
  {
   "cell_type": "markdown",
   "metadata": {},
   "source": [
    "# 4. Расчет плотности газонасыщенной нефти $ρ_{нг} $\n",
    "## расчет ведется по следующей корреляционной зависимости при $10 ≤ G_0 ≤ 100$ $\\frac{м3}{м3}$ $ρ_{нг}=\\frac{1090}{G_0^{0,085}}$"
   ]
  },
  {
   "cell_type": "code",
   "execution_count": 7,
   "metadata": {},
   "outputs": [
    {
     "name": "stdout",
     "output_type": "stream",
     "text": [
      "ρнг= 769 кг/м^3\n"
     ]
    }
   ],
   "source": [
    "r = math.trunc(1090/(pow(n,0.085)))\n",
    "print('ρнг=',r,'кг/м^3' )"
   ]
  },
  {
   "cell_type": "markdown",
   "metadata": {},
   "source": [
    "# 5.Оценка плотности выделяющегося из нефти газа $ρ_г$\n",
    "## Для этого можно использовать следующую аналитическую зависимость:\n",
    "## $ρ_г = \\frac{685 – 0,809·ρ_{нг}}{Gо}$"
   ]
  },
  {
   "cell_type": "code",
   "execution_count": 8,
   "metadata": {},
   "outputs": [
    {
     "name": "stdout",
     "output_type": "stream",
     "text": [
      "ρг= 1 кг/м^3\n"
     ]
    }
   ],
   "source": [
    "ro=math.trunc((685 - 0.809*r) / n)\n",
    "print('ρг=',ro,'кг/м^3' )"
   ]
  },
  {
   "cell_type": "markdown",
   "metadata": {},
   "source": [
    "# 6.Оценка содержания в выделившемся газе азота $y_а$\n",
    "## $y_а = 9,9 – 8,167·ρ_г$"
   ]
  },
  {
   "cell_type": "code",
   "execution_count": 9,
   "metadata": {},
   "outputs": [
    {
     "name": "stdout",
     "output_type": "stream",
     "text": [
      "ya= 1 %\n"
     ]
    }
   ],
   "source": [
    "ya=math.trunc(9.9-8.167*ro)\n",
    "print('ya=',ya,'%' )"
   ]
  },
  {
   "cell_type": "markdown",
   "metadata": {},
   "source": [
    "# 7.Оценка содержания в выделившемся газе метана $y_м$\n",
    "## $y_м = 68,07·(1,977 - ρ_г)$   при  $2 ≤ y_м < 98,5$% $, 0 ≤ y_а < 4$ %"
   ]
  },
  {
   "cell_type": "code",
   "execution_count": 10,
   "metadata": {},
   "outputs": [
    {
     "name": "stdout",
     "output_type": "stream",
     "text": [
      "ym= 66 %\n"
     ]
    }
   ],
   "source": [
    "if ya>=0 and ya<=4: ym=math.trunc(68.07*(1.977-ro))\n",
    "if ym<2 and ym>=98.5: print('Ошибка!')\n",
    "print('ym=',ym,'%' )"
   ]
  },
  {
   "cell_type": "markdown",
   "metadata": {},
   "source": [
    "# Методология расчета ρнд, используя величины ρнд для разных сроков\n",
    "## $ρ_{нднач}$ на начало разработки = 840 $\\frac{кг}{м^3}$\n",
    "## $ρ_{ндтек}$ на текущую дату =850 $\\frac{кг}{м^3}$\n",
    "## $P_{наснач}$, начальное давление насыщения = 12 МПа\n",
    "## $P_{нас}$, давление насыщения года, плотность в котором нужно рассчитать = 10 МПа\n",
    "## $P_{настек}$, давление насыщения на текущую дату = 8 МПа"
   ]
  },
  {
   "cell_type": "code",
   "execution_count": 8,
   "metadata": {
    "collapsed": true
   },
   "outputs": [],
   "source": [
    "ro1 =840\n",
    "ro3 = 850\n",
    "P1 =12\n",
    "P2 =10\n",
    "P3 =8\n"
   ]
  },
  {
   "cell_type": "markdown",
   "metadata": {},
   "source": [
    "## Сначала рассчитывается разность плотностей\n"
   ]
  },
  {
   "cell_type": "code",
   "execution_count": 13,
   "metadata": {},
   "outputs": [
    {
     "name": "stdout",
     "output_type": "stream",
     "text": [
      "∆ρнд= 10 кг/м^3\n"
     ]
    }
   ],
   "source": [
    "dro=ro3-ro1\n",
    "print('∆ρнд=',dro,'кг/м^3' )"
   ]
  },
  {
   "cell_type": "markdown",
   "metadata": {},
   "source": [
    "## А также разность давлений насыщения"
   ]
  },
  {
   "cell_type": "code",
   "execution_count": 9,
   "metadata": {},
   "outputs": [
    {
     "name": "stdout",
     "output_type": "stream",
     "text": [
      "∆P= 4 МПа\n"
     ]
    }
   ],
   "source": [
    "dP=P1-P3\n",
    "print('∆P=',dP,'МПа' )"
   ]
  },
  {
   "cell_type": "markdown",
   "metadata": {},
   "source": [
    "## Далее находим $\\frac{∆ρ_{нд}}{∆Р_{нас}}$\n"
   ]
  },
  {
   "cell_type": "code",
   "execution_count": 15,
   "metadata": {},
   "outputs": [
    {
     "name": "stdout",
     "output_type": "stream",
     "text": [
      "∆ρнд/∆Рнас= 2.5 кг/(м^3*МПа)\n"
     ]
    }
   ],
   "source": [
    "print('∆ρнд/∆Рнас=',dro/dP,'кг/(м^3*МПа)' )"
   ]
  },
  {
   "cell_type": "markdown",
   "metadata": {},
   "source": [
    "## Рассчитываем $∆Р'_{нас}=Р_{наснач}-Р_{нас}$"
   ]
  },
  {
   "cell_type": "code",
   "execution_count": 10,
   "metadata": {},
   "outputs": [
    {
     "name": "stdout",
     "output_type": "stream",
     "text": [
      "∆P*нас= 2 МПа\n"
     ]
    }
   ],
   "source": [
    "print('∆P*нас=',P1-P2,'МПа' )"
   ]
  },
  {
   "cell_type": "markdown",
   "metadata": {},
   "source": [
    "## а также $∆ρ'_{нд}=\\frac{∆ρ_{нд}}{∆Р_{нас}}·∆Р'_{нас}$\n"
   ]
  },
  {
   "cell_type": "code",
   "execution_count": 17,
   "metadata": {},
   "outputs": [
    {
     "name": "stdout",
     "output_type": "stream",
     "text": [
      "∆ρ*нд= 5.0 кг/м^3\n"
     ]
    }
   ],
   "source": [
    "print('∆ρ*нд=',dro/dP*(P1-P2),'кг/м^3' )"
   ]
  },
  {
   "cell_type": "markdown",
   "metadata": {},
   "source": [
    "## Находим $ρ_{нд}=ρ_{нднач} + ∆ρ'_{нд}$"
   ]
  },
  {
   "cell_type": "code",
   "execution_count": 18,
   "metadata": {
    "scrolled": true
   },
   "outputs": [
    {
     "name": "stdout",
     "output_type": "stream",
     "text": [
      "ρнд= 845.0 кг/м^3\n"
     ]
    }
   ],
   "source": [
    "print('ρнд=',dro/dP*(P1-P2)+ro1,'кг/м^3' )"
   ]
  },
  {
   "cell_type": "code",
   "execution_count": null,
   "metadata": {
    "collapsed": true
   },
   "outputs": [],
   "source": []
  }
 ],
 "metadata": {
  "kernelspec": {
   "display_name": "Python 3",
   "language": "python",
   "name": "python3"
  },
  "language_info": {
   "codemirror_mode": {
    "name": "ipython",
    "version": 3
   },
   "file_extension": ".py",
   "mimetype": "text/x-python",
   "name": "python",
   "nbconvert_exporter": "python",
   "pygments_lexer": "ipython3",
   "version": "3.6.0"
  }
 },
 "nbformat": 4,
 "nbformat_minor": 2
}
