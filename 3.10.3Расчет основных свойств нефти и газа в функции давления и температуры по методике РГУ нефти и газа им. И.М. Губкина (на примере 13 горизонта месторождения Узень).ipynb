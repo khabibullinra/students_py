{
 "cells": [
  {
   "cell_type": "markdown",
   "metadata": {},
   "source": [
    "# I. Расчет проведем по данным 1967 года; исходные данные берем из таблицы 3.10.2.1 и 3.10.2.2, используя промысловые данные:"
   ]
  },
  {
   "cell_type": "markdown",
   "metadata": {},
   "source": [
    "## - пластовое давление\t$Р_{пл} = 11,57 МПа$,\n",
    "## - пластовая температура\t$t_{пл} = 58 °С$,\n",
    "## - давление насыщения\t$Р_{нас} = 7,65 МПа$,\n",
    "## - массовая газонасыщенность\t$G_м = 65,56 \\frac{м^3}{т}$, \n",
    "## - объемный коэффициент \t$b_н = 1,195$,\n",
    "## - плотность пластовой нефти\t$ρ_{нпл} = 773 \\frac{кг}{м^3}$,\n",
    "## - плотность дегазированной нефти\t$ρ_{нд} = 854,1 \\frac{кг}{м^3}$,\n",
    "## - содержание метана\t$у_м = 50,24$ %,\n",
    "## - содержание азота\t$у_a = 2,3$ %,\n",
    "## - плотность газа\t$ρ_г = 1,222 \\frac{кг}{м^3}$.\n",
    "## Расчет при $t = 20 °С$\n"
   ]
  },
  {
   "cell_type": "markdown",
   "metadata": {},
   "source": [
    "# 1. Расчет функции $f_{ШБП}$:\n",
    "## $f_{ШБП}=\\frac{701,8}{G_м*(у_м-0,8*у_a)}$"
   ]
  },
  {
   "cell_type": "code",
   "execution_count": 2,
   "metadata": {},
   "outputs": [
    {
     "name": "stdout",
     "output_type": "stream",
     "text": [
      "f_шбп= 22.11\n"
     ]
    }
   ],
   "source": [
    "import math\n",
    "G_m=65.56\n",
    "y_m=0.5024\n",
    "y_a=0.023\n",
    "f_шбп=math.trunc(100*701.8/(G_m*(y_m-0.8*y_a)))/100\n",
    "print ('f_шбп=', f_шбп ) "
   ]
  },
  {
   "cell_type": "markdown",
   "metadata": {},
   "source": [
    "# 2. Расчет $Р_{нас20}$:\n",
    "## $Р_{нас20} = Р_{нас} + \\frac{20 – t_{пл}}{9,157 + f_{ШБП}}$"
   ]
  },
  {
   "cell_type": "code",
   "execution_count": 3,
   "metadata": {},
   "outputs": [
    {
     "name": "stdout",
     "output_type": "stream",
     "text": [
      "Р_нас20= 6.43 МПа\n"
     ]
    }
   ],
   "source": [
    "P_нас=7.65\n",
    "t_пл=58\n",
    "Р_нас20=math.trunc(100*(P_нас +(20-t_пл)/(9.157+f_шбп)))/100\n",
    "print ('Р_нас20=', Р_нас20, 'МПа' ) "
   ]
  },
  {
   "cell_type": "markdown",
   "metadata": {},
   "source": [
    "# 3. Задаем ряд значений $n_i$:\n",
    "## $n_i=\\frac{Р_i}{Р_{нас20}} =(1,0;0,8;0,6;0,4;0,2;0,1;\\frac{0,1}{Р_{нас20}})$.\n",
    "# 4. Вычисляем матрицу давлений $Р_i$:\n",
    "## $Р_i = n_i · Р_{нас20}$"
   ]
  },
  {
   "cell_type": "code",
   "execution_count": 4,
   "metadata": {},
   "outputs": [
    {
     "name": "stdout",
     "output_type": "stream",
     "text": [
      "[ 6.43   5.144  3.858  2.572  1.286  0.643  0.1  ]\n"
     ]
    }
   ],
   "source": [
    "import numpy as np\n",
    "n_i = np.array([1, 0.8, 0.6, 0.4, 0.2, 0.1, 0.1/Р_нас20])\n",
    "P_i=n_i*Р_нас20\n",
    "print(P_i)"
   ]
  },
  {
   "cell_type": "markdown",
   "metadata": {},
   "source": [
    "# 5. Рассчитываем коэффициенты $R_i$:\n",
    "## $R_i=\\frac{lg⁡(n_i)}{lg⁡(10∙Р_{нас20})}$ "
   ]
  },
  {
   "cell_type": "code",
   "execution_count": 5,
   "metadata": {},
   "outputs": [
    {
     "name": "stdout",
     "output_type": "stream",
     "text": [
      "R_i = 0.0\n",
      "R_i = -0.053\n",
      "R_i = -0.122\n",
      "R_i = -0.22\n",
      "R_i = -0.386\n",
      "R_i = -0.553\n",
      "R_i = -1.0\n"
     ]
    }
   ],
   "source": [
    "R_i=np.trunc(1000*np.log10(n_i)/np.log10(10*Р_нас20))/1000\n",
    "a = 0\n",
    "while a < 7: \n",
    "    print ('R_i =', R_i[a])\n",
    "    a=a+1"
   ]
  },
  {
   "cell_type": "markdown",
   "metadata": {
    "scrolled": true
   },
   "source": [
    "# 6. Расчет коэффициентов $D_1 и U_1 (ρ ̅_{нд} = 0,8541; ρ ̅_г = 0,945)$:\n",
    "## $D_1=4,06(ρ ̅_{нд}∙ρ ̅_г-1,045)$\n",
    "## $U_1=ρ ̅_{нд}∙G_м-186$"
   ]
  },
  {
   "cell_type": "code",
   "execution_count": 6,
   "metadata": {},
   "outputs": [
    {
     "name": "stdout",
     "output_type": "stream",
     "text": [
      "D_1= -0.96\n",
      "U_1= -130.0\n"
     ]
    }
   ],
   "source": [
    "ρнд_ = 0.8541\n",
    "ρг_ = 0.945\n",
    "D_1= math.trunc(100*4.06* (ρнд_ * ρг_-1.045))/100\n",
    "U_1= math.trunc(100*(ρнд_*G_m-186))/100\n",
    "print ('D_1=', D_1)\n",
    "print ('U_1=', U_1)"
   ]
  },
  {
   "cell_type": "markdown",
   "metadata": {},
   "source": [
    "# 7. Расчет объема выделяющегося из нефти газа:\n",
    "# $G_{м,i}=Г_м∙R_i [D_1 (1+R_i )-1]$"
   ]
  },
  {
   "cell_type": "code",
   "execution_count": 7,
   "metadata": {},
   "outputs": [
    {
     "name": "stdout",
     "output_type": "stream",
     "text": [
      "G_m,i = -0.0\n",
      "G_m,i = 6.63\n",
      "G_m,i = 14.73\n",
      "G_m,i = 25.22\n",
      "G_m,i = 40.22\n",
      "G_m,i = 51.81\n",
      "G_m,i = 65.56\n"
     ]
    }
   ],
   "source": [
    "G_i= np.trunc(100*G_m*R_i*(D_1*(1+R_i)-1))/100\n",
    "a = 0\n",
    "while a < 7: \n",
    "    print ('G_m,i =', G_i[a])\n",
    "    a=a+1"
   ]
  },
  {
   "cell_type": "markdown",
   "metadata": {
    "collapsed": true
   },
   "source": [
    "# 8. Расчет газонасыщенности пластовой нефти $Г_{м,i}$:\n",
    "## $Г_{м,i}=Г_м-G_{м,i}$"
   ]
  },
  {
   "cell_type": "code",
   "execution_count": 8,
   "metadata": {},
   "outputs": [
    {
     "name": "stdout",
     "output_type": "stream",
     "text": [
      "Г_i = 65.56\n",
      "Г_i = 58.93\n",
      "Г_i = 50.83\n",
      "Г_i = 40.34\n",
      "Г_i = 25.34\n",
      "Г_i = 13.75\n",
      "Г_i = 0.0\n"
     ]
    }
   ],
   "source": [
    "Г_i=G_m-G_i\n",
    "a = 0\n",
    "while a < 7: \n",
    "    print ('Г_i =', Г_i[a])\n",
    "    a=a+1"
   ]
  },
  {
   "cell_type": "markdown",
   "metadata": {},
   "source": [
    "# 9. Расчет относительной плотности выделяющегося из нефти газа:\n",
    "## $ρ ̅_{гвi}=ρ ̅_г-0,0036(1+R_i)(105,7+U_1∙R_i)$"
   ]
  },
  {
   "cell_type": "code",
   "execution_count": 9,
   "metadata": {},
   "outputs": [
    {
     "name": "stdout",
     "output_type": "stream",
     "text": [
      "ρ_гвi = 0.564\n",
      "ρ_гвi = 0.561\n",
      "ρ_гвi = 0.56\n",
      "ρ_гвi = 0.567\n",
      "ρ_гвi = 0.6\n",
      "ρ_гвi = 0.659\n",
      "ρ_гвi = 0.945\n"
     ]
    }
   ],
   "source": [
    "ρ_гвi=np.trunc(1000*(ρг_-0.0036*(1+R_i)*(105.7+U_1*R_i)))/1000\n",
    "a = 0\n",
    "while a < 7: \n",
    "    print ('ρ_гвi =', ρ_гвi[a])\n",
    "    a=a+1"
   ]
  },
  {
   "cell_type": "markdown",
   "metadata": {},
   "source": [
    "# 10. Расчет относительной плотности газа, остающегося в нефти в растворенном состоянии:\n",
    "## $ρ ̅_{гр,i}=\\frac{Г_м}{Г_{м,i}}*(ρ ̅_г-ρ ̅_{гв,i}*\\frac{G_{м,i}}{Г_м})$"
   ]
  },
  {
   "cell_type": "code",
   "execution_count": 21,
   "metadata": {},
   "outputs": [
    {
     "name": "stdout",
     "output_type": "stream",
     "text": [
      "ρ_грi = 0.945\n",
      "ρ_грi = 0.988\n",
      "ρ_грi = 1.056\n",
      "ρ_грi = 1.181\n",
      "ρ_грi = 1.492\n",
      "ρ_грi = 2.022\n"
     ]
    },
    {
     "name": "stderr",
     "output_type": "stream",
     "text": [
      "C:\\Anaconda\\lib\\site-packages\\ipykernel_launcher.py:1: RuntimeWarning: divide by zero encountered in true_divide\n",
      "  \"\"\"Entry point for launching an IPython kernel.\n",
      "C:\\Anaconda\\lib\\site-packages\\ipykernel_launcher.py:1: RuntimeWarning: invalid value encountered in multiply\n",
      "  \"\"\"Entry point for launching an IPython kernel.\n"
     ]
    }
   ],
   "source": [
    "ρ_грi=np.trunc(1000*G_m/Г_i*(ρг_-ρ_гвi*G_i/G_m))/1000\n",
    "a = 0\n",
    "while a < 6: \n",
    "    print ('ρ_грi =', ρ_грi[a])\n",
    "    a=a+1"
   ]
  },
  {
   "cell_type": "markdown",
   "metadata": {},
   "source": [
    "## $ρ ̅_{гр,7}$ должна быть найдена экстраполяцией графической зависимости $ρ ̅_{гр,i}=f(Р)$ для Р = 0,1 МПа."
   ]
  },
  {
   "cell_type": "code",
   "execution_count": 12,
   "metadata": {},
   "outputs": [
    {
     "data": {
      "image/png": "[encoded data removed]",
      "text/plain": [
       "<matplotlib.figure.Figure at 0x133951e7940>"
      ]
     },
     "metadata": {},
     "output_type": "display_data"
    },
    {
     "name": "stdout",
     "output_type": "stream",
     "text": [
      "ρ_гр7= 2.72\n"
     ]
    }
   ],
   "source": [
    "from pylab import *\n",
    "import numpy as np\n",
    "x=[0.643, 1.286,  2.572,  3.858,  5.144, 6.43]\n",
    "y=[2.022, 1.492,1.181,1.056,0.988,0.945,]\n",
    "z = np.polyfit(x, y, 4)\n",
    "f = np.poly1d(z)\n",
    "x_new = np.linspace(0, 6.43, 50)\n",
    "y_new = f(x_new)\n",
    "plot(x_new, y_new)\n",
    "plt.title('ρ_грi=f(P)')\n",
    "show()\n",
    "x_1=0.1\n",
    "y_1=np.trunc(100*f(0.1))/100\n",
    "print ('ρ_гр7=', y_1)\n",
    "ρ_грi[6]=y_1"
   ]
  },
  {
   "cell_type": "markdown",
   "metadata": {
    "collapsed": true
   },
   "source": [
    "## 11. Расчет безразмерного параметра $λ_i$:\n",
    "## $λ_i=3,54(1,2147-ρ ̅_{нд} )+1,0337ρ ̅_{грi}+5,581ρ ̅_{нд} (1-1,61ρ ̅_{нд}∙10^{-3} Г_{мi})10^{-3} Г_{мi}$"
   ]
  },
  {
   "cell_type": "code",
   "execution_count": 13,
   "metadata": {},
   "outputs": [
    {
     "name": "stdout",
     "output_type": "stream",
     "text": [
      " λ_i= 2.537\n",
      " λ_i= 2.555\n",
      " λ_i= 2.593\n",
      " λ_i= 2.678\n",
      " λ_i= 2.935\n",
      " λ_i= 3.43\n",
      " λ_i= 4.088\n"
     ]
    }
   ],
   "source": [
    "λ_i=np.trunc((3.54*(1.2147-ρнд_)+1.0337*ρ_грi+5.581*ρнд_*(1-1.61*ρнд_/1000*Г_i)*Г_i/1000)*1000)/1000\n",
    "a = 0\n",
    "while a < 7: \n",
    "    print (' λ_i=', λ_i[a])\n",
    "    a=a+1"
   ]
  },
  {
   "cell_type": "markdown",
   "metadata": {
    "collapsed": true
   },
   "source": [
    "# 12. Расчет объемного коэффициента нефти:\n",
    "## $b_i=1+1,0733ρ ̅_{нд}∙λ_i∙10^{-3}∙Г_{мi}-6,5∙10^{-4}∙Р_i$"
   ]
  },
  {
   "cell_type": "code",
   "execution_count": 14,
   "metadata": {},
   "outputs": [
    {
     "name": "stdout",
     "output_type": "stream",
     "text": [
      " b_i= 1.148\n",
      " b_i= 1.134\n",
      " b_i= 1.118\n",
      " b_i= 1.097\n",
      " b_i= 1.067\n",
      " b_i= 1.042\n",
      " b_i= 0.999\n"
     ]
    }
   ],
   "source": [
    "b_i=np.trunc((1+1.0733*ρнд_*λ_i/1000*Г_i-6.5/10000*P_i)*1000)/1000\n",
    "a = 0\n",
    "while a < 7: \n",
    "    print (' b_i=', b_i[a])\n",
    "    a=a+1"
   ]
  },
  {
   "cell_type": "markdown",
   "metadata": {},
   "source": [
    "# 13. Расчет относительной плотности газонасыщенной нефти:\n",
    "## $ρ ̅_{нг,i}=\\frac{ρ ̅_{нд}}{b_{нi}}(1+1,293ρ ̅_{грi}∙10^{-3}∙Г_{мi} )$"
   ]
  },
  {
   "cell_type": "code",
   "execution_count": 15,
   "metadata": {},
   "outputs": [
    {
     "name": "stdout",
     "output_type": "stream",
     "text": [
      " ρ_нгi= 0.803\n",
      " ρ_нгi= 0.809\n",
      " ρ_нгi= 0.816\n",
      " ρ_нгi= 0.826\n",
      " ρ_нгi= 0.839\n",
      " ρ_нгi= 0.849\n",
      " ρ_нгi= 0.854\n"
     ]
    }
   ],
   "source": [
    "ρ_нгi=np.trunc(1000*ρнд_/b_i*(1+1.293*ρ_грi/1000*Г_i))/1000\n",
    "a = 0\n",
    "while a < 7: \n",
    "    print (' ρ_нгi=', ρ_нгi[a])\n",
    "    a=a+1"
   ]
  },
  {
   "cell_type": "code",
   "execution_count": 16,
   "metadata": {},
   "outputs": [
    {
     "data": {
      "image/png": "[encoded data removed]",
      "text/plain": [
       "<matplotlib.figure.Figure at 0x1339737b198>"
      ]
     },
     "metadata": {},
     "output_type": "display_data"
    }
   ],
   "source": [
    "x = P_i\n",
    "y = ρ_гвi\n",
    "plot(x, y)\n",
    "plt.title('ρ_гвi=f(P)')\n",
    "show()"
   ]
  },
  {
   "cell_type": "code",
   "execution_count": 17,
   "metadata": {},
   "outputs": [
    {
     "data": {
      "image/png": "[encoded data removed]",
      "text/plain": [
       "<matplotlib.figure.Figure at 0x13397761390>"
      ]
     },
     "metadata": {},
     "output_type": "display_data"
    }
   ],
   "source": [
    "x = P_i\n",
    "y = G_i\n",
    "plot(x, y)\n",
    "plt.title('G_i=f(P)')\n",
    "show()"
   ]
  },
  {
   "cell_type": "code",
   "execution_count": 18,
   "metadata": {},
   "outputs": [
    {
     "data": {
      "image/png": "[encoded data removed]",
      "text/plain": [
       "<matplotlib.figure.Figure at 0x1339784fa90>"
      ]
     },
     "metadata": {},
     "output_type": "display_data"
    }
   ],
   "source": [
    "x = P_i\n",
    "y = Г_i\n",
    "plot(x, y)\n",
    "plt.title('Г_i=f(P)')\n",
    "show()"
   ]
  },
  {
   "cell_type": "code",
   "execution_count": 19,
   "metadata": {},
   "outputs": [
    {
     "data": {
      "image/png": "[encoded data removed]",
      "text/plain": [
       "<matplotlib.figure.Figure at 0x133978cf9b0>"
      ]
     },
     "metadata": {},
     "output_type": "display_data"
    }
   ],
   "source": [
    "x = P_i\n",
    "y = ρ_нгi\n",
    "plot(x, y)\n",
    "plt.title('ρ_нгi=f(P)')\n",
    "show()"
   ]
  },
  {
   "cell_type": "code",
   "execution_count": 20,
   "metadata": {},
   "outputs": [
    {
     "data": {
      "image/png": "[encoded data removed]",
      "text/plain": [
       "<matplotlib.figure.Figure at 0x1339797a2b0>"
      ]
     },
     "metadata": {},
     "output_type": "display_data"
    }
   ],
   "source": [
    "x = P_i\n",
    "y = b_i\n",
    "plot(x, y)\n",
    "plt.title('b_i=f(P)')\n",
    "show()"
   ]
  },
  {
   "cell_type": "code",
   "execution_count": null,
   "metadata": {
    "collapsed": true
   },
   "outputs": [],
   "source": []
  }
 ],
 "metadata": {
  "kernelspec": {
   "display_name": "Python 3",
   "language": "python",
   "name": "python3"
  },
  "language_info": {
   "codemirror_mode": {
    "name": "ipython",
    "version": 3
   },
   "file_extension": ".py",
   "mimetype": "text/x-python",
   "name": "python",
   "nbconvert_exporter": "python",
   "pygments_lexer": "ipython3",
   "version": "3.6.1"
  }
 },
 "nbformat": 4,
 "nbformat_minor": 2
}
