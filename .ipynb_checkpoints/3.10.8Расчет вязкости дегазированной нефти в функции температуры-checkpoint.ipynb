{
 "cells": [
  {
   "cell_type": "markdown",
   "metadata": {},
   "source": [
    "## На месторождении Узень вязкость дегазированной нефти определялась экспериментально при температурах 40, 50 и 60 °С. Как правило, данные по вязкости дегазированной нефти при 20 °С, имеются не для всех горизонтов. Поэтому практический интерес представляет расчетная оценка вязкости дегазированной нефти при 20 °С. Для этой оценки можно использовать формулу Дунюшкина И.И. \n",
    "## $μ ̅_{нt}=\\frac{(с*μ ̅_{нt}1 )^а}{c}$\n",
    "## где $μ ̅_{нt}$ – относительная динамическая вязкость дегазированной нефти при искомой температуре $t$,\n",
    "## $μ ̅_{нt1}$ – относительная динамическая вязкость дегазированной нефти при известной температуре $t1$,\n",
    "## $a$ – коэффициент, рассчитываемый по формуле:\n",
    "## $а=\\frac{1}{1+b(t-t_1)lg⁡(с∙μ ̅_{нt1})}$\n",
    "## где $b, с$ – коэффициенты, зависящие от вязкости нефти и принимаемые такими:\n",
    "## при $μ ̅_н  ≥ 1000, b = 2,52·10^{-3} \\frac{1}{°С}, c = 10$,\n",
    "## при $10 ≤ μ_н  ≤ 1000, b = 1,44·10^{-3} \\frac{1}{°С}, c = 100$,\n",
    "## при $μ_н  < 10, b = 0,76·10^{-3} \\frac{1}{°С}, c = 1000$.\n"
   ]
  },
  {
   "cell_type": "code",
   "execution_count": 1,
   "metadata": {},
   "outputs": [
    {
     "name": "stdout",
     "output_type": "stream",
     "text": [
      "μ= 73.85 мПа*с\n"
     ]
    }
   ],
   "source": [
    "import math\n",
    "μ1_mPas=20.63 #вязкость при t1\n",
    "t1_C= 50\n",
    "t_C=20\n",
    "if μ1_mPas>=1000: b=0.00252\n",
    "elif μ1_mPas>=10 and μ1_mPas<1000:b=0.00144\n",
    "else:  b=0.00076\n",
    "if μ1_mPas>=1000: с=10\n",
    "elif μ1_mPas>=10 and μ1_mPas<1000:с=100\n",
    "else:  с=1000\n",
    "a=1/(1+b*(t_C-t1_C)*math.log10(с*μ1_mPas))\n",
    "μ_mPas=(math.trunc(100*(pow(с*μ1_mPas,a))/с))/100\n",
    "print ('μ=', μ_mPas, 'мПа*с' ) "
   ]
  },
  {
   "cell_type": "code",
   "execution_count": null,
   "metadata": {
    "collapsed": true
   },
   "outputs": [],
   "source": []
  }
 ],
 "metadata": {
  "kernelspec": {
   "display_name": "Python 3",
   "language": "python",
   "name": "python3"
  },
  "language_info": {
   "codemirror_mode": {
    "name": "ipython",
    "version": 3
   },
   "file_extension": ".py",
   "mimetype": "text/x-python",
   "name": "python",
   "nbconvert_exporter": "python",
   "pygments_lexer": "ipython3",
   "version": "3.6.1"
  }
 },
 "nbformat": 4,
 "nbformat_minor": 2
}
