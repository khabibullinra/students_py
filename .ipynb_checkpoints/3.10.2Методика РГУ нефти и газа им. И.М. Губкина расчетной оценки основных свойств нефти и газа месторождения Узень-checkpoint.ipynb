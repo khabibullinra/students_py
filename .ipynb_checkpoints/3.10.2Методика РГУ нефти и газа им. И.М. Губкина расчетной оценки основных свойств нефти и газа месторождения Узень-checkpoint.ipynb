{
 "cells": [
  {
   "cell_type": "markdown",
   "metadata": {},
   "source": [
    "\n",
    " # 1.Расчет газонасыщенности пластовой нефти $G_0$\n",
    "### Газонасыщенность пластовой нефти  $G_0$, $\\frac{м^3}{м^3} = \\frac{1}{0.00036 ρ_{нд}– 0.2896}$\n"
   ]
  },
  {
   "cell_type": "code",
   "execution_count": 94,
   "metadata": {},
   "outputs": [
    {
     "name": "stdout",
     "output_type": "stream",
     "text": [
      "Populating the interactive namespace from numpy and matplotlib\n",
      "G0= 60.0 м^3/м^3\n"
     ]
    },
    {
     "data": {
      "text/plain": [
       "[<matplotlib.lines.Line2D at 0x1eff2664748>]"
      ]
     },
     "execution_count": 94,
     "metadata": {},
     "output_type": "execute_result"
    },
    {
     "data": {
      "image/png": "[encoded data removed]",
      "text/plain": [
       "<matplotlib.figure.Figure at 0x1eff2261710>"
      ]
     },
     "metadata": {},
     "output_type": "display_data"
    }
   ],
   "source": [
    "rho1_kgm3 = 850 #кг/м^3\n",
    "import math\n",
    "import numpy as np\n",
    "%pylab inline\n",
    "#   Расчет газонасыщенности от плотности дегазированной нефти\n",
    "def g0_m3m3(rho_kgm3):\n",
    "     return np.trunc(1 / (0.00036*rho_kgm3 - 0.2896))       \n",
    "print ('G0=', g0_m3m3(rho1_kgm3), 'м^3/м^3') \n",
    "rho_kgm3=np.arange(805,980,1)\n",
    "plt.xlabel(u'Плотность дегазированной нефти, кг/м^3')\n",
    "plt.ylabel(u'Газонасыщенность пластовой нефти, м^3/м^3')\n",
    "plot(rho_kgm3,g0_m3m3(rho_kgm3))"
   ]
  },
  {
   "cell_type": "markdown",
   "metadata": {},
   "source": [
    "# 2.Расчет давления насыщения ${Р_{нас}}$\n",
    " для интервала газонасыщенности $25 ≤ Gо ≤ 100$  $\\frac{м^3}{м^3}$\n",
    " \n",
    "$ Р_{нас} = 5,5 + 0,093·(Gо – 25) $ МПа\n",
    "\n",
    "$ Р_{нас} = 6 + 0,22·(Gо – 40) $,справедливое в интервале $ 40 ≤ Gо ≤ 80$  $\\frac{м^3}{м^3}$, полученное используя свойства нефтей месторождения Узень"
   ]
  },
  {
   "cell_type": "code",
   "execution_count": 102,
   "metadata": {
    "scrolled": true
   },
   "outputs": [
    {
     "name": "stdout",
     "output_type": "stream",
     "text": [
      "Рнас= 10.4 Мпа\n"
     ]
    }
   ],
   "source": [
    " # 2.Расчет давления насыщения   \n",
    "def p_nas_MPa(g0_m3m3):\n",
    "        if (g0_m3m3 >= 25 and g0_m3m3 < 40) or (g0_m3m3 > 80 and g0_m3m3 <= 100): \n",
    "             p_nas_MPa = 5.5 + 0.093*(g0_m3m3 - 25)\n",
    "        elif g0_m3m3>=40 and g0_m3m3 <= 80: \n",
    "            p_nas_MPa= 6 + 0.22*(g0_m3m3 - 40)\n",
    "        else: \n",
    "            print (\"Газонасыщенность не подходит\")\n",
    "        return p_nas_MPa\n",
    "print('Рнас=',p_nas_MPa(g0_m3m3(rho1_kgm3)),\"Мпа\")"
   ]
  },
  {
   "cell_type": "code",
   "execution_count": 33,
   "metadata": {},
   "outputs": [
    {
     "ename": "ValueError",
     "evalue": "The truth value of an array with more than one element is ambiguous. Use a.any() or a.all()",
     "output_type": "error",
     "traceback": [
      "\u001b[1;31m---------------------------------------------------------------------------\u001b[0m",
      "\u001b[1;31mValueError\u001b[0m                                Traceback (most recent call last)",
      "\u001b[1;32m<ipython-input-33-6931d25aa8e8>\u001b[0m in \u001b[0;36m<module>\u001b[1;34m()\u001b[0m\n\u001b[0;32m      1\u001b[0m \u001b[0mg0_m3m3\u001b[0m\u001b[1;33m=\u001b[0m\u001b[0mnp\u001b[0m\u001b[1;33m.\u001b[0m\u001b[0marange\u001b[0m\u001b[1;33m(\u001b[0m\u001b[1;36m25\u001b[0m\u001b[1;33m,\u001b[0m\u001b[1;36m100\u001b[0m\u001b[1;33m,\u001b[0m\u001b[1;36m1\u001b[0m\u001b[1;33m)\u001b[0m\u001b[1;33m\u001b[0m\u001b[0m\n\u001b[1;32m----> 2\u001b[1;33m \u001b[0mp_nas_MPa\u001b[0m\u001b[1;33m(\u001b[0m\u001b[0mg0_m3m3\u001b[0m\u001b[1;33m)\u001b[0m\u001b[1;33m\u001b[0m\u001b[0m\n\u001b[0m\u001b[0;32m      3\u001b[0m \u001b[1;31m#plt.xlabel(u'Плотность дегазированной нефти, кг/м^3')\u001b[0m\u001b[1;33m\u001b[0m\u001b[1;33m\u001b[0m\u001b[0m\n\u001b[0;32m      4\u001b[0m \u001b[1;31m#plt.ylabel(u'Газонасыщенность пластовой нефти, м^3/м^3')\u001b[0m\u001b[1;33m\u001b[0m\u001b[1;33m\u001b[0m\u001b[0m\n\u001b[0;32m      5\u001b[0m \u001b[0mplot\u001b[0m\u001b[1;33m(\u001b[0m\u001b[0mg0_m3m3\u001b[0m\u001b[1;33m,\u001b[0m\u001b[0mp_nas_MPa\u001b[0m\u001b[1;33m(\u001b[0m\u001b[0mg0_m3m3\u001b[0m\u001b[1;33m)\u001b[0m\u001b[1;33m)\u001b[0m\u001b[1;33m\u001b[0m\u001b[0m\n",
      "\u001b[1;32m<ipython-input-29-b9f0a4793565>\u001b[0m in \u001b[0;36mp_nas_MPa\u001b[1;34m(g0_m3m3)\u001b[0m\n\u001b[0;32m      1\u001b[0m \u001b[1;32mdef\u001b[0m \u001b[0mp_nas_MPa\u001b[0m\u001b[1;33m(\u001b[0m\u001b[0mg0_m3m3\u001b[0m\u001b[1;33m)\u001b[0m\u001b[1;33m:\u001b[0m\u001b[1;33m\u001b[0m\u001b[0m\n\u001b[1;32m----> 2\u001b[1;33m    \u001b[1;32mif\u001b[0m \u001b[1;33m(\u001b[0m\u001b[0mg0_m3m3\u001b[0m \u001b[1;33m>=\u001b[0m \u001b[1;36m25\u001b[0m \u001b[1;32mand\u001b[0m \u001b[0mg0_m3m3\u001b[0m \u001b[1;33m<\u001b[0m \u001b[1;36m40\u001b[0m\u001b[1;33m)\u001b[0m \u001b[1;32mor\u001b[0m \u001b[1;33m(\u001b[0m\u001b[0mg0_m3m3\u001b[0m \u001b[1;33m>\u001b[0m \u001b[1;36m80\u001b[0m \u001b[1;32mand\u001b[0m \u001b[0mg0_m3m3\u001b[0m \u001b[1;33m<=\u001b[0m \u001b[1;36m100\u001b[0m\u001b[1;33m)\u001b[0m\u001b[1;33m:\u001b[0m\u001b[1;33m\u001b[0m\u001b[0m\n\u001b[0m\u001b[0;32m      3\u001b[0m         \u001b[0mp_nas_MPa\u001b[0m \u001b[1;33m=\u001b[0m \u001b[1;36m5.5\u001b[0m \u001b[1;33m+\u001b[0m \u001b[1;36m0.093\u001b[0m\u001b[1;33m*\u001b[0m\u001b[1;33m(\u001b[0m\u001b[0mg0_m3m3\u001b[0m \u001b[1;33m-\u001b[0m \u001b[1;36m25\u001b[0m\u001b[1;33m)\u001b[0m\u001b[1;33m\u001b[0m\u001b[0m\n\u001b[0;32m      4\u001b[0m    \u001b[1;32melif\u001b[0m \u001b[0mg0_m3m3\u001b[0m\u001b[1;33m>=\u001b[0m\u001b[1;36m40\u001b[0m \u001b[1;32mand\u001b[0m \u001b[0mg0_m3m3\u001b[0m \u001b[1;33m<=\u001b[0m \u001b[1;36m80\u001b[0m\u001b[1;33m:\u001b[0m\u001b[1;33m\u001b[0m\u001b[0m\n\u001b[0;32m      5\u001b[0m        \u001b[0mp_nas_MPa\u001b[0m\u001b[1;33m=\u001b[0m \u001b[1;36m6\u001b[0m \u001b[1;33m+\u001b[0m \u001b[1;36m0.22\u001b[0m\u001b[1;33m*\u001b[0m\u001b[1;33m(\u001b[0m\u001b[0mg0_m3m3\u001b[0m \u001b[1;33m-\u001b[0m \u001b[1;36m40\u001b[0m\u001b[1;33m)\u001b[0m\u001b[1;33m\u001b[0m\u001b[0m\n",
      "\u001b[1;31mValueError\u001b[0m: The truth value of an array with more than one element is ambiguous. Use a.any() or a.all()"
     ]
    }
   ],
   "source": [
    "g0_m3m3=np.arange(25,100,1)\n",
    "p_nas_MPa(g0_m3m3)\n",
    "#plt.xlabel(u'Плотность дегазированной нефти, кг/м^3')\n",
    "#plt.ylabel(u'Газонасыщенность пластовой нефти, м^3/м^3')\n",
    "plot(g0_m3m3,p_nas_MPa(g0_m3m3))"
   ]
  },
  {
   "cell_type": "markdown",
   "metadata": {},
   "source": [
    "# 3.Расчет объемного коэффициента нефти $b$\n",
    " Используется следующая корреляционная зависимость $b = 1 + 0,003·Gо$"
   ]
  },
  {
   "cell_type": "code",
   "execution_count": 59,
   "metadata": {},
   "outputs": [
    {
     "name": "stdout",
     "output_type": "stream",
     "text": [
      "b= 1.18\n"
     ]
    },
    {
     "data": {
      "text/plain": [
       "[<matplotlib.lines.Line2D at 0x1eff2154d68>]"
      ]
     },
     "execution_count": 59,
     "metadata": {},
     "output_type": "execute_result"
    },
    {
     "data": {
      "image/png": "[encoded data removed]",
      "text/plain": [
       "<matplotlib.figure.Figure at 0x1eff092d2b0>"
      ]
     },
     "metadata": {},
     "output_type": "display_data"
    }
   ],
   "source": [
    "# 3.Расчет объемного коэффициента нефти\n",
    "def b(g0_m3m3):\n",
    "    b=1+0.003*g0_m3m3\n",
    "    return b\n",
    "print('b=',b(g0_m3m3(rho1_kgm3)))\n",
    "g0_m3m3=np.arange(20,100,1)\n",
    "plt.xlabel(u'Газонасыщенность пластовой нефти, м^3/м^3')\n",
    "plt.ylabel(u'Объемный коэффициент нефти')\n",
    "plot(g0_m3m3,b(g0_m3m3))"
   ]
  },
  {
   "cell_type": "markdown",
   "metadata": {},
   "source": [
    "# 4. Расчет плотности газонасыщенной нефти $ρ_{нг} $\n",
    " расчет ведется по следующей корреляционной зависимости при $10 ≤ G_0 ≤ 100$ $\\frac{м3}{м3}$ $ρ_{нг}=\\frac{1090}{G_0^{0,085}}$"
   ]
  },
  {
   "cell_type": "code",
   "execution_count": 69,
   "metadata": {},
   "outputs": [
    {
     "name": "stdout",
     "output_type": "stream",
     "text": [
      "ρнг= 769.0 кг/м^3\n"
     ]
    },
    {
     "data": {
      "text/plain": [
       "[<matplotlib.lines.Line2D at 0x1eff2459ac8>]"
      ]
     },
     "execution_count": 69,
     "metadata": {},
     "output_type": "execute_result"
    },
    {
     "data": {
      "image/png": "[encoded data removed]",
      "text/plain": [
       "<matplotlib.figure.Figure at 0x1eff2261080>"
      ]
     },
     "metadata": {},
     "output_type": "display_data"
    }
   ],
   "source": [
    "# Расчет плотности газонасыщенной нефти\n",
    "def rhong_kgm3(g0_m3m3):\n",
    "    rhong_kgm3 = np.trunc(1090/(pow(g0_m3m3,0.085)))\n",
    "    return rhong_kgm3\n",
    "print('ρнг=',rhong_kgm3(g0_m3m3(rho1_kgm3)),'кг/м^3' )\n",
    "g0_m3m3=np.arange(20,100,1)\n",
    "plt.xlabel(u'Газонасыщенность пластовой нефти, м^3/м^3')\n",
    "plt.ylabel(u'Плотность газонасыщенной нефти')\n",
    "plot(g0_m3m3,rhong_kgm3(g0_m3m3))"
   ]
  },
  {
   "cell_type": "markdown",
   "metadata": {},
   "source": [
    "# 5.Оценка плотности выделяющегося из нефти газа $ρ_г$\n",
    " Для этого можно использовать следующую аналитическую зависимость:\n",
    " ## $ρ_г = \\frac{685 – 0,809·ρ_{нг}}{Gо}$"
   ]
  },
  {
   "cell_type": "code",
   "execution_count": 77,
   "metadata": {},
   "outputs": [
    {
     "name": "stdout",
     "output_type": "stream",
     "text": [
      "ρг= 1.0 кг/м^3\n"
     ]
    }
   ],
   "source": [
    "# Оценка плотности выделяющегося из нефти газа\n",
    "def rhog_kgm3(g0_m3m3,rhong_kgm3):\n",
    "    rhog_kgm3=np.trunc((685 - 0.809*rhong_kgm3) / g0_m3m3)\n",
    "    return rhog_kgm3\n",
    "print('ρг=',rhog_kgm3(g0_m3m3(rho1_kgm3),rhong_kgm3(g0_m3m3(rho1_kgm3))),'кг/м^3' )"
   ]
  },
  {
   "cell_type": "markdown",
   "metadata": {},
   "source": [
    "# 6.Оценка содержания в выделившемся газе азота $y_а$\n",
    "## $y_а = 9,9 – 8,167·ρ_г$"
   ]
  },
  {
   "cell_type": "code",
   "execution_count": 79,
   "metadata": {},
   "outputs": [
    {
     "name": "stdout",
     "output_type": "stream",
     "text": [
      "ya= 1.0 %\n"
     ]
    }
   ],
   "source": [
    "#Оценка содержания в выделившемся газе азота\n",
    "def ya(rhog_kgm3):\n",
    "    ya=np.trunc(9.9-8.167*rhog_kgm3)\n",
    "    return ya\n",
    "print('ya=',ya(rhog_kgm3(g0_m3m3(rho1_kgm3),rhong_kgm3(g0_m3m3(rho1_kgm3)))),'%' )"
   ]
  },
  {
   "cell_type": "markdown",
   "metadata": {},
   "source": [
    "# 7.Оценка содержания в выделившемся газе метана $y_м$\n",
    "## $y_м = 68,07·(1,977 - ρ_г)$   при  $2 ≤ y_м < 98,5$% $, 0 ≤ y_а < 4$ %"
   ]
  },
  {
   "cell_type": "code",
   "execution_count": 111,
   "metadata": {},
   "outputs": [
    {
     "name": "stdout",
     "output_type": "stream",
     "text": [
      "ym= 66.0 %\n"
     ]
    }
   ],
   "source": [
    "#Оценка содержания в выделившемся газе метана\n",
    "def ym(rhog_kgm3):\n",
    "    if 9.9-8.167*rhog_kgm3>=0 and 9.9-8.167*rhog_kgm3 <= 4 :\n",
    "        ym=np.trunc(68.07*(1.977-rhog_kgm3))\n",
    "    else: \n",
    "            print (\"Ошибка!\")\n",
    "    return ym  \n",
    "# if ym(rhog_kgm3)<2 or ym(rhog_kgm3)>=98.5: print('Ошибка!')\n",
    "print('ym=',ym(rhog_kgm3(g0_m3m3(rho1_kgm3),rhong_kgm3(g0_m3m3(rho1_kgm3)))),'%') "
   ]
  },
  {
   "cell_type": "markdown",
   "metadata": {},
   "source": [
    "# Методология расчета ρнд, используя величины ρнд для разных сроков\n",
    "## $ρ_{нднач}$ на начало разработки = 840 $\\frac{кг}{м^3}$\n",
    "## $ρ_{ндтек}$ на текущую дату =850 $\\frac{кг}{м^3}$\n",
    "## $P_{наснач}$, начальное давление насыщения = 12 МПа\n",
    "## $P_{нас}$, давление насыщения года, плотность в котором нужно рассчитать = 10 МПа\n",
    "## $P_{настек}$, давление насыщения на текущую дату = 8 МПа"
   ]
  },
  {
   "cell_type": "code",
   "execution_count": 8,
   "metadata": {
    "collapsed": true
   },
   "outputs": [],
   "source": [
    "ro1 =840\n",
    "ro3 = 850\n",
    "P1 =12\n",
    "P2 =10\n",
    "P3 =8\n"
   ]
  },
  {
   "cell_type": "markdown",
   "metadata": {},
   "source": [
    "## Сначала рассчитывается разность плотностей\n"
   ]
  },
  {
   "cell_type": "code",
   "execution_count": 13,
   "metadata": {},
   "outputs": [
    {
     "name": "stdout",
     "output_type": "stream",
     "text": [
      "∆ρнд= 10 кг/м^3\n"
     ]
    }
   ],
   "source": [
    "dro=ro3-ro1\n",
    "print('∆ρнд=',dro,'кг/м^3' )"
   ]
  },
  {
   "cell_type": "markdown",
   "metadata": {},
   "source": [
    "## А также разность давлений насыщения"
   ]
  },
  {
   "cell_type": "code",
   "execution_count": 9,
   "metadata": {},
   "outputs": [
    {
     "name": "stdout",
     "output_type": "stream",
     "text": [
      "∆P= 4 МПа\n"
     ]
    }
   ],
   "source": [
    "dP=P1-P3\n",
    "print('∆P=',dP,'МПа' )"
   ]
  },
  {
   "cell_type": "markdown",
   "metadata": {},
   "source": [
    "## Далее находим $\\frac{∆ρ_{нд}}{∆Р_{нас}}$\n"
   ]
  },
  {
   "cell_type": "code",
   "execution_count": 15,
   "metadata": {},
   "outputs": [
    {
     "name": "stdout",
     "output_type": "stream",
     "text": [
      "∆ρнд/∆Рнас= 2.5 кг/(м^3*МПа)\n"
     ]
    }
   ],
   "source": [
    "print('∆ρнд/∆Рнас=',dro/dP,'кг/(м^3*МПа)' )"
   ]
  },
  {
   "cell_type": "markdown",
   "metadata": {},
   "source": [
    "## Рассчитываем $∆Р'_{нас}=Р_{наснач}-Р_{нас}$"
   ]
  },
  {
   "cell_type": "code",
   "execution_count": 10,
   "metadata": {},
   "outputs": [
    {
     "name": "stdout",
     "output_type": "stream",
     "text": [
      "∆P*нас= 2 МПа\n"
     ]
    }
   ],
   "source": [
    "print('∆P*нас=',P1-P2,'МПа' )"
   ]
  },
  {
   "cell_type": "markdown",
   "metadata": {},
   "source": [
    "## а также $∆ρ'_{нд}=\\frac{∆ρ_{нд}}{∆Р_{нас}}·∆Р'_{нас}$\n"
   ]
  },
  {
   "cell_type": "code",
   "execution_count": 17,
   "metadata": {},
   "outputs": [
    {
     "name": "stdout",
     "output_type": "stream",
     "text": [
      "∆ρ*нд= 5.0 кг/м^3\n"
     ]
    }
   ],
   "source": [
    "print('∆ρ*нд=',dro/dP*(P1-P2),'кг/м^3' )"
   ]
  },
  {
   "cell_type": "markdown",
   "metadata": {},
   "source": [
    "## Находим $ρ_{нд}=ρ_{нднач} + ∆ρ'_{нд}$"
   ]
  },
  {
   "cell_type": "code",
   "execution_count": 18,
   "metadata": {
    "scrolled": true
   },
   "outputs": [
    {
     "name": "stdout",
     "output_type": "stream",
     "text": [
      "ρнд= 845.0 кг/м^3\n"
     ]
    }
   ],
   "source": [
    "print('ρнд=',dro/dP*(P1-P2)+ro1,'кг/м^3' )"
   ]
  },
  {
   "cell_type": "code",
   "execution_count": null,
   "metadata": {
    "collapsed": true
   },
   "outputs": [],
   "source": []
  }
 ],
 "metadata": {
  "kernelspec": {
   "display_name": "Python 3",
   "language": "python",
   "name": "python3"
  },
  "language_info": {
   "codemirror_mode": {
    "name": "ipython",
    "version": 3
   },
   "file_extension": ".py",
   "mimetype": "text/x-python",
   "name": "python",
   "nbconvert_exporter": "python",
   "pygments_lexer": "ipython3",
   "version": "3.6.1"
  }
 },
 "nbformat": 4,
 "nbformat_minor": 2
}
