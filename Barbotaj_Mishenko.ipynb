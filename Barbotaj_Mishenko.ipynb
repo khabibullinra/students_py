{
 "cells": [
  {
   "cell_type": "markdown",
   "metadata": {},
   "source": [
    "# 1.Методика РГУ нефти и газа о выносе воды на участке забой - прием\n",
    "К безводным скважинам будем относить такие , у которых в любой элементе системы(подьемник, устье, затрубное пространство,погружное оборудование, забой) отсутствует вода. В практике встречается, что скважины , заглушенные перед КРС, после вызова притока , в интервале забой - прием погружного оборудования может оставаться вода - вода глушения.Нефть, поступающая из пласта, всплывает в воде в виде капелек, формируя так называемый режим барботажа нефти в воде. В этом случае водонефтяная смесь в интервале «забой – прием» содержит определенное количество воды и скважина не может считаться безводной, несмотря на то, что продукция скважины – нефть, не содержит воды. \n",
    "Методика определения наличия воды глушения :\n",
    "\n",
    "$$Re_н={ \\frac{υ ̅_н∙D_c}{ν_н}}=1,274{\\frac{q_н}{D_c∙ν_н }}$$\n",
    "\n",
    "где:\n",
    "$υ_н$ – приведенная скорость нефти в эксплуатационной колонне диаметром Dc, м/с,\n",
    "\n",
    "$ν_н $  – кинематическая вязкость нефти, $м^2/с.$\n",
    "\n",
    "Критическое число Рейнольдса для нефти ${Rе_н.кр}$– такая численная величина, для которой влияние относительной скорости нефти $υ_о$ на плотность водонефтяной смеси становится пренебрежимо малым $υ_о$ ≈ $υ_н$\n",
    "\n",
    "Предельное число Рейнольдса для нефти Rен.пр – такая численная величина, для которой ($φ_н$  = 1 и вся вода из интервала «забой – прием» полностью выносится на дневную поверхность, для барботажа нефти через столб воды.\n",
    "При обводненности равной 0, ${Rе_н.пр}$ = 850, ${Rе_н.кр}$ = 400\n",
    "Если в скажину поступает обводненная продукция , то   ${Rе_н.пр}$ = 1600, ${Rе_н.кр}$ = 200\n",
    "\n"
   ]
  },
  {
   "cell_type": "code",
   "execution_count": 3,
   "metadata": {
    "collapsed": true
   },
   "outputs": [],
   "source": [
    "#Входные данные\n",
    "#q_n = float (input (\"q_n=\")) / 86400 # дебит по нефти\n",
    "#B = float(input(\"B = \")) / 100 #Обводненность продукции на поверхности\n",
    "#D = float (input(\"D=\")) * 1e-3 #диаметр ЭК\n",
    "#mu_n = float (input(\"mu=\")) * 1e-3 #вязкость нефти\n",
    "#ro_n = float (input (\"ro_n=\")) #плотность нефти\n",
    "#H_well = float(input(\"H_well =\")) #глубина спуска скважины\n",
    "#d = float(input(\"d=\"))*1e-3 #d НКТ\n",
    "#Re = 1.274 * q_n / D / mu_n * ro_n\n",
    "#H_0 = float(input(\"H_0=\")) #глубина спуска НКТ\n",
    "#H = H_well * (D ** 2) / (D ** 2 + d ** 2)\n",
    "def vynos_vody(q_n =10 / 86400  ,B =0 ,D = 0.12,mu_n = 3* 1e-3 ,ro_n_field = 770,H_well = 2000,d = 0.062, H_0 =500): \n",
    "    Re_ = 1.274 * q_n / D / mu_n * ro_n_field\n",
    "    H = H_well * (D ** 2) / (D ** 2 + d ** 2)\n",
    "\n",
    "    if B == 0 :\n",
    "        if H_0 > H or Re_ > 850 : #происходит вынос воды\n",
    "            return 1\n",
    "            print (\"происходит вынос воды\")\n",
    "        elif  400 < Re_ < 850 :\n",
    "            return 2\n",
    "             \n",
    "            print(\"Происходит частичный вынос воды\",H)\n",
    "        else:\n",
    "            return 3\n",
    "            print (\"Вынос воды не происходит\", H)\n",
    "    else :\n",
    "        if H_0 > H or Re_ > 1600 :\n",
    "            return 1\n",
    "            print(\"Происходит вынос воды\")\n",
    "        elif 200 < Re_ < 1600 :\n",
    "            return 2\n",
    "            print(\"Происходит частичный вынос воды\")\n",
    "        else: \n",
    "            return 3\n",
    "            print (\"Вынос воды не происходит\", H)\n",
    "       "
   ]
  },
  {
   "cell_type": "code",
   "execution_count": 2,
   "metadata": {
    "collapsed": true,
    "scrolled": true
   },
   "outputs": [],
   "source": [
    "import matplotlib as mpl\n",
    "import matplotlib.pyplot as plt\n",
    "import numpy as np\n",
    "%matplotlib inline \n",
    "\n"
   ]
  },
  {
   "cell_type": "code",
   "execution_count": 5,
   "metadata": {
    "collapsed": true,
    "scrolled": true
   },
   "outputs": [],
   "source": [
    "q_n = np.arange(0,100,1)\n",
    "ro_n = np.arange (700,860,10)\n",
    "mu_n = np.arange(0.001, 0.01,0.0001)"
   ]
  },
  {
   "cell_type": "code",
   "execution_count": 8,
   "metadata": {},
   "outputs": [
    {
     "data": {
      "text/plain": [
       "2"
      ]
     },
     "execution_count": 8,
     "metadata": {},
     "output_type": "execute_result"
    }
   ],
   "source": [
    "# Ввод данных(дебит) \n",
    "q_n_field = 20 #float(input()) \n",
    "vynos_vody(q_n = q_n_field / 86400)\n"
   ]
  },
  {
   "cell_type": "code",
   "execution_count": 7,
   "metadata": {},
   "outputs": [
    {
     "data": {
      "image/png": "[encoded data removed]",
      "text/plain": [
       "<matplotlib.figure.Figure at 0x1aac9bb0940>"
      ]
     },
     "metadata": {},
     "output_type": "display_data"
    }
   ],
   "source": [
    "t = []\n",
    "for q in q_n:\n",
    "    x = vynos_vody(q /86400, H_0 = 500)\n",
    "    t.append(x)\n",
    "    \n",
    "plt.xlabel(\"q_n, м3/сут\")\n",
    "plt.title(\"Вынос воды на учаске забой-прием\")\n",
    "plt.grid(True)\n",
    "plt.scatter(q_n_field,vynos_vody(q_n = q_n_field / 86400),color = \"red\")\n",
    "plt.plot(q_n ,t, color = \"black\" );\n",
    "plt.text(0, 3.03,  'вынос воды не происходит', fontsize=11);\n",
    "plt.text(0, 2.03,  'происходит частичный вынос воды', fontsize=11);\n",
    "plt.text(0, 1.0,  'происходит вынос воды', fontsize=11);\n"
   ]
  },
  {
   "cell_type": "code",
   "execution_count": 9,
   "metadata": {},
   "outputs": [
    {
     "data": {
      "text/plain": [
       "3"
      ]
     },
     "execution_count": 9,
     "metadata": {},
     "output_type": "execute_result"
    }
   ],
   "source": [
    "# Ввод данных(плотность в пластовых условиях)\n",
    "ro_n_field = 740 #float(input())\n",
    "vynos_vody(ro_n_field=ro_n_field)"
   ]
  },
  {
   "cell_type": "code",
   "execution_count": 10,
   "metadata": {},
   "outputs": [
    {
     "data": {
      "image/png": "[encoded data removed]",
      "text/plain": [
       "<matplotlib.figure.Figure at 0x1aac9bb06a0>"
      ]
     },
     "metadata": {},
     "output_type": "display_data"
    }
   ],
   "source": [
    "t = []\n",
    "for ro in ro_n :\n",
    "    x = vynos_vody(ro_n_field = ro, H_0 = 500)\n",
    "    t.append(x)\n",
    "plt.title(\"Вынос воды на учаске забой-прием\")\n",
    "plt.plot(ro_n,t, color = \"green\");\n",
    "plt.grid(True);\n",
    "plt.scatter(ro_n_field,vynos_vody(ro_n_field=ro_n_field),color = \"red\");\n",
    "plt.xlabel(\"плотность нефти(пласт) кг/м3\");\n",
    "\n"
   ]
  },
  {
   "cell_type": "code",
   "execution_count": 17,
   "metadata": {},
   "outputs": [
    {
     "data": {
      "text/plain": [
       "3"
      ]
     },
     "execution_count": 17,
     "metadata": {},
     "output_type": "execute_result"
    }
   ],
   "source": [
    "mu_n_field =5 #float(input()) мПа*с\n",
    "vynos_vody(ro_n_field=ro_n_field)"
   ]
  },
  {
   "cell_type": "code",
   "execution_count": 18,
   "metadata": {},
   "outputs": [
    {
     "data": {
      "image/png": "[encoded data removed]",
      "text/plain": [
       "<matplotlib.figure.Figure at 0x1aac9fb4a90>"
      ]
     },
     "metadata": {},
     "output_type": "display_data"
    }
   ],
   "source": [
    "t = []\n",
    "for mu in mu_n :\n",
    "    x = vynos_vody(mu_n=mu)\n",
    "    t.append(x)\n",
    "plt.title(\"Вынос воды на учаске забой-прием\")\n",
    "plt.plot(mu_n,t);\n",
    "plt.grid(True);\n",
    "plt.scatter(mu_n_field / 1e3,vynos_vody(mu_n=mu_n_field / 1e3),color = \"red\");\n",
    "plt.xlabel(\"вязкость нефти, мПа*с\");"
   ]
  }
 ],
 "metadata": {
  "kernelspec": {
   "display_name": "Python 3",
   "language": "python",
   "name": "python3"
  },
  "language_info": {
   "codemirror_mode": {
    "name": "ipython",
    "version": 3
   },
   "file_extension": ".py",
   "mimetype": "text/x-python",
   "name": "python",
   "nbconvert_exporter": "python",
   "pygments_lexer": "ipython3",
   "version": "3.6.1"
  }
 },
 "nbformat": 4,
 "nbformat_minor": 2
}
